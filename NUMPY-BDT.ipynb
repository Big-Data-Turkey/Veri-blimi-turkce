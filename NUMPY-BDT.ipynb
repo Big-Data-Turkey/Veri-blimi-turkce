{
 "cells": [
  {
   "cell_type": "markdown",
   "id": "e1b394ed",
   "metadata": {},
   "source": [
    "#  Merhaba arkadaşlar hepiniz Big Data Turkey ekibi olarak  hazırlamış olduğumuz veri bilimi eğitimine hoşgeldiniz !!!!\n",
    "\n",
    "* Haydi başlayalım VERİ BİLİMİ ' nin  büyülü dünyasına hoşgeldiniz :) "
   ]
  },
  {
   "cell_type": "markdown",
   "id": "521cac7f",
   "metadata": {},
   "source": [
    "# NUMPY "
   ]
  },
  {
   "cell_type": "markdown",
   "id": "0d35d855",
   "metadata": {},
   "source": [
    "\n",
    "* NumPy, Python programlama dili için bir kütüphanedir; büyük, çok boyutlu diziler ve matrisler için destek ekler ve bu dizilerde çalışacak geniş bir üst düzey matematiksel işlev koleksiyonu sunar.\n",
    "* Veri bilimi için olmazsa olmazdır.Ayrıca Numpy bilmeden Makine ve Derin öğrenme algoritmalarına geçemezsiniz.\n",
    "* Numpy ile çok fazla işlem yapılabilmekte. Biz hemen hemen hepsine değineceğiz. \n",
    "* Hazırsanız başlayalım..."
   ]
  },
  {
   "cell_type": "markdown",
   "id": "7ba808f2",
   "metadata": {},
   "source": [
    "# Numpy kütüphanesinin import edilmesi"
   ]
  },
  {
   "cell_type": "code",
   "execution_count": 1,
   "id": "d86dbb6a",
   "metadata": {},
   "outputs": [],
   "source": [
    "import numpy as np"
   ]
  },
  {
   "cell_type": "markdown",
   "id": "5ad39879",
   "metadata": {},
   "source": [
    "# Numpy’e İlk Adım ‘Arrayler’\n",
    "* Arrayler’i bir çeşit veri depolama olarak görebilirsiniz. Numpy’nin veriyi kullanabilmesi için verileri ‘Array’ haline getirmeliyiz. Array’in ne olduğundan bahsetmedik değil mi ? Arrayler aslında birer matrislerdir. Görebilmek için öncelikle bir veri yaratalım."
   ]
  },
  {
   "cell_type": "code",
   "execution_count": 2,
   "id": "7cfa629c",
   "metadata": {},
   "outputs": [],
   "source": [
    "Data = [[1,2,3],[4,5,6],[7,8,9]]"
   ]
  },
  {
   "cell_type": "code",
   "execution_count": 3,
   "id": "d037c77b",
   "metadata": {},
   "outputs": [
    {
     "name": "stdout",
     "output_type": "stream",
     "text": [
      "[[1, 2, 3], [4, 5, 6], [7, 8, 9]]\n"
     ]
    }
   ],
   "source": [
    "print(Data)"
   ]
  },
  {
   "cell_type": "markdown",
   "id": "99968f5a",
   "metadata": {},
   "source": [
    "* Verimizi de yarattığımıza göre ilk Array’i yaratabiliriz."
   ]
  },
  {
   "cell_type": "code",
   "execution_count": 4,
   "id": "ca6c2e60",
   "metadata": {},
   "outputs": [
    {
     "data": {
      "text/plain": [
       "array([[1, 2, 3],\n",
       "       [4, 5, 6],\n",
       "       [7, 8, 9]])"
      ]
     },
     "execution_count": 4,
     "metadata": {},
     "output_type": "execute_result"
    }
   ],
   "source": [
    "# Datayı Array formuna çevirebilmek için \n",
    "Array = np.array(Data)\n",
    "Array\n"
   ]
  },
  {
   "cell_type": "markdown",
   "id": "a1a1a022",
   "metadata": {},
   "source": [
    "# Numpy’nin Olmazsa Olmaz Fonksiyonları"
   ]
  },
  {
   "cell_type": "markdown",
   "id": "fbc35ceb",
   "metadata": {},
   "source": [
    "* Arange Fonksiyonu:\n",
    "* Arange fonksiyonu, verdiğiniz 2 sayı arasını Array’e çevirir."
   ]
  },
  {
   "cell_type": "code",
   "execution_count": 5,
   "id": "64af9d2f",
   "metadata": {},
   "outputs": [
    {
     "data": {
      "text/plain": [
       "array([ 0,  1,  2,  3,  4,  5,  6,  7,  8,  9, 10, 11, 12, 13, 14, 15, 16,\n",
       "       17, 18, 19, 20, 21, 22, 23, 24, 25, 26, 27, 28, 29, 30, 31, 32, 33,\n",
       "       34, 35, 36, 37, 38, 39, 40, 41, 42, 43, 44, 45, 46, 47, 48, 49, 50,\n",
       "       51, 52, 53, 54, 55, 56, 57, 58, 59, 60, 61, 62, 63, 64, 65, 66, 67,\n",
       "       68, 69, 70, 71, 72, 73, 74, 75, 76, 77, 78, 79, 80, 81, 82, 83, 84,\n",
       "       85, 86, 87, 88, 89, 90, 91, 92, 93, 94, 95, 96, 97, 98, 99])"
      ]
     },
     "execution_count": 5,
     "metadata": {},
     "output_type": "execute_result"
    }
   ],
   "source": [
    "# bu fonk 0 ila 100 değerleri arasını array olarak depolar\n",
    "np.arange(0,100)"
   ]
  },
  {
   "cell_type": "code",
   "execution_count": 6,
   "id": "2a70457a",
   "metadata": {},
   "outputs": [
    {
     "data": {
      "text/plain": [
       "array([ 0,  5, 10, 15, 20, 25, 30, 35, 40, 45, 50, 55, 60, 65, 70, 75, 80,\n",
       "       85, 90, 95])"
      ]
     },
     "execution_count": 6,
     "metadata": {},
     "output_type": "execute_result"
    }
   ],
   "source": [
    "# aynısı ama 5 er 5er atlayarak ilerler\n",
    "np.arange(0,100,5)"
   ]
  },
  {
   "cell_type": "markdown",
   "id": "73f9f300",
   "metadata": {},
   "source": [
    "# Zeros, Ones ve Eye Fonksiyonları:"
   ]
  },
  {
   "cell_type": "markdown",
   "id": "0984344a",
   "metadata": {},
   "source": [
    "* Zeros Fonksiyonu, belirttiğiniz miktar kadar 0'lardan oluşan bir Array yaratacaktır."
   ]
  },
  {
   "cell_type": "code",
   "execution_count": 8,
   "id": "bbe1369e",
   "metadata": {},
   "outputs": [
    {
     "data": {
      "text/plain": [
       "array([0., 0., 0., 0., 0., 0., 0., 0., 0., 0., 0., 0., 0., 0., 0., 0., 0.,\n",
       "       0., 0., 0., 0., 0., 0., 0., 0., 0., 0., 0., 0., 0., 0., 0., 0., 0.,\n",
       "       0., 0., 0., 0., 0., 0., 0., 0., 0., 0., 0., 0., 0., 0., 0., 0., 0.,\n",
       "       0., 0., 0., 0., 0., 0., 0., 0., 0., 0., 0., 0., 0., 0., 0., 0., 0.,\n",
       "       0., 0., 0., 0., 0., 0., 0., 0., 0., 0., 0., 0., 0., 0., 0., 0., 0.,\n",
       "       0., 0., 0., 0., 0., 0., 0., 0., 0., 0., 0., 0., 0., 0., 0.])"
      ]
     },
     "execution_count": 8,
     "metadata": {},
     "output_type": "execute_result"
    }
   ],
   "source": [
    "# 100 adet 0'dan olusan array bastır\n",
    "np.zeros(100)"
   ]
  },
  {
   "cell_type": "markdown",
   "id": "074c9338",
   "metadata": {},
   "source": [
    "* Ones Fonksiyonu, belirttiğiniz miktar kadar 1'lerden oluşan bir Array oluşturacaktır."
   ]
  },
  {
   "cell_type": "code",
   "execution_count": 10,
   "id": "7791faf5",
   "metadata": {},
   "outputs": [
    {
     "data": {
      "text/plain": [
       "array([1., 1., 1., 1., 1., 1., 1., 1., 1., 1., 1., 1., 1., 1., 1., 1., 1.,\n",
       "       1., 1., 1., 1., 1., 1., 1., 1., 1., 1., 1., 1., 1., 1., 1., 1., 1.,\n",
       "       1., 1., 1., 1., 1., 1., 1., 1., 1., 1., 1., 1., 1., 1., 1., 1., 1.,\n",
       "       1., 1., 1., 1., 1., 1., 1., 1., 1., 1., 1., 1., 1., 1., 1., 1., 1.,\n",
       "       1., 1., 1., 1., 1., 1., 1., 1., 1., 1., 1., 1., 1., 1., 1., 1., 1.,\n",
       "       1., 1., 1., 1., 1., 1., 1., 1., 1., 1., 1., 1., 1., 1., 1.])"
      ]
     },
     "execution_count": 10,
     "metadata": {},
     "output_type": "execute_result"
    }
   ],
   "source": [
    "# 100 adet 1 den olusan array bastır\n",
    "np.ones(100)"
   ]
  },
  {
   "cell_type": "markdown",
   "id": "e8446da0",
   "metadata": {},
   "source": [
    "* Ve bu bölümün sonra son fonksiyonu olan Eye fonksiyonuna gelelim. Kendisini tarif etmek biraz zor. Ama işlevi oldukça basit."
   ]
  },
  {
   "cell_type": "code",
   "execution_count": 11,
   "id": "b16264bd",
   "metadata": {},
   "outputs": [
    {
     "data": {
      "text/plain": [
       "array([[1., 0., 0., 0., 0., 0., 0., 0., 0., 0.],\n",
       "       [0., 1., 0., 0., 0., 0., 0., 0., 0., 0.],\n",
       "       [0., 0., 1., 0., 0., 0., 0., 0., 0., 0.],\n",
       "       [0., 0., 0., 1., 0., 0., 0., 0., 0., 0.],\n",
       "       [0., 0., 0., 0., 1., 0., 0., 0., 0., 0.],\n",
       "       [0., 0., 0., 0., 0., 1., 0., 0., 0., 0.],\n",
       "       [0., 0., 0., 0., 0., 0., 1., 0., 0., 0.],\n",
       "       [0., 0., 0., 0., 0., 0., 0., 1., 0., 0.],\n",
       "       [0., 0., 0., 0., 0., 0., 0., 0., 1., 0.],\n",
       "       [0., 0., 0., 0., 0., 0., 0., 0., 0., 1.]])"
      ]
     },
     "execution_count": 11,
     "metadata": {},
     "output_type": "execute_result"
    }
   ],
   "source": [
    "np.eye(10)"
   ]
  },
  {
   "cell_type": "markdown",
   "id": "64f75cd1",
   "metadata": {},
   "source": [
    "# Linspace Fonskiyonu:\n",
    "* Bu fonksiyon, genel olarak 3 değer alır. İlk 2 değer arasında olan sayıları 3. sayıya eşit olarak dağıtır. Anlamamış olabilirsiniz ama aşağıdaki kod parçasıya kolayca anlayabiliceğinizi düşünüyorum."
   ]
  },
  {
   "cell_type": "code",
   "execution_count": 12,
   "id": "ab42bb14",
   "metadata": {},
   "outputs": [
    {
     "data": {
      "text/plain": [
       "array([  0.,  25.,  50.,  75., 100.])"
      ]
     },
     "execution_count": 12,
     "metadata": {},
     "output_type": "execute_result"
    }
   ],
   "source": [
    "# 0 ve 100 arasını 5 eşit parçaya böl ve göster\n",
    "np.linspace(0,100,5)"
   ]
  },
  {
   "cell_type": "markdown",
   "id": "633d23b7",
   "metadata": {},
   "source": [
    "# Random Fonksiyonları:\n",
    "\n",
    "\n",
    "* Bu bölümde pek çok fonksiyon göreceksiniz. Hepsinin ayrı bir işlevi var. Ve oldukça önemliler. Zira en fazla kullanılan fonksiyonlar arasında yer alıyorlar."
   ]
  },
  {
   "cell_type": "code",
   "execution_count": 15,
   "id": "cc727e94",
   "metadata": {},
   "outputs": [
    {
     "data": {
      "text/plain": [
       "78"
      ]
     },
     "execution_count": 15,
     "metadata": {},
     "output_type": "execute_result"
    }
   ],
   "source": [
    "# 0 ve 100 arasında ranstgele bir sayı üret \n",
    "np.random.randint(0,100)\n",
    "# ve ayrıca şu ikisi birbirine eşittir np.random.randint(0,100) = np.random.randint(100)"
   ]
  },
  {
   "cell_type": "code",
   "execution_count": 16,
   "id": "ce2374d9",
   "metadata": {},
   "outputs": [
    {
     "data": {
      "text/plain": [
       "array([87, 85, 60,  3, 94])"
      ]
     },
     "execution_count": 16,
     "metadata": {},
     "output_type": "execute_result"
    }
   ],
   "source": [
    "# 0 ve 100 arasında 5 tane rastgele sayı bastır\n",
    "np.random.randint(0,100,5)"
   ]
  },
  {
   "cell_type": "markdown",
   "id": "a2ca9428",
   "metadata": {},
   "source": [
    "* Şimdi ki fonskiyonumuz ise 0 ile 1 arasında ki random sayıları verecektir."
   ]
  },
  {
   "cell_type": "code",
   "execution_count": 17,
   "id": "6ef90765",
   "metadata": {},
   "outputs": [
    {
     "data": {
      "text/plain": [
       "array([0.04388666, 0.33848154, 0.17756175, 0.9394453 , 0.33187542])"
      ]
     },
     "execution_count": 17,
     "metadata": {},
     "output_type": "execute_result"
    }
   ],
   "source": [
    "# 0 ve 1 arasında 5 değer bastır\n",
    "np.random.rand(5)"
   ]
  },
  {
   "cell_type": "markdown",
   "id": "76ae1ef9",
   "metadata": {},
   "source": [
    "* Şimdi Array’e şekil vermeyi göreceğiz. Matris ile işlemlerimizi icra ettiğimiz için bu fonksiyon ayrı bir işlevseldir. Veriye istediğimiz şekli vermemizi sağlamaktadır."
   ]
  },
  {
   "cell_type": "code",
   "execution_count": 19,
   "id": "b6605816",
   "metadata": {},
   "outputs": [
    {
     "data": {
      "text/plain": [
       "array([  0,   1,   2,   3,   4,   5,   6,   7,   8,   9,  10,  11,  12,\n",
       "        13,  14,  15,  16,  17,  18,  19,  20,  21,  22,  23,  24,  25,\n",
       "        26,  27,  28,  29,  30,  31,  32,  33,  34,  35,  36,  37,  38,\n",
       "        39,  40,  41,  42,  43,  44,  45,  46,  47,  48,  49,  50,  51,\n",
       "        52,  53,  54,  55,  56,  57,  58,  59,  60,  61,  62,  63,  64,\n",
       "        65,  66,  67,  68,  69,  70,  71,  72,  73,  74,  75,  76,  77,\n",
       "        78,  79,  80,  81,  82,  83,  84,  85,  86,  87,  88,  89,  90,\n",
       "        91,  92,  93,  94,  95,  96,  97,  98,  99, 100, 101, 102, 103,\n",
       "       104, 105, 106, 107, 108, 109, 110, 111, 112, 113, 114, 115, 116,\n",
       "       117, 118, 119, 120, 121, 122, 123, 124, 125, 126, 127, 128, 129,\n",
       "       130, 131, 132, 133, 134, 135, 136, 137, 138, 139, 140, 141, 142,\n",
       "       143, 144, 145, 146, 147, 148, 149, 150, 151, 152, 153, 154, 155,\n",
       "       156, 157, 158, 159, 160, 161, 162, 163, 164, 165, 166, 167, 168,\n",
       "       169, 170, 171, 172, 173, 174, 175, 176, 177, 178, 179, 180, 181,\n",
       "       182, 183, 184, 185, 186, 187, 188, 189, 190, 191, 192, 193, 194,\n",
       "       195, 196, 197, 198, 199, 200, 201, 202, 203, 204, 205, 206, 207,\n",
       "       208, 209, 210, 211, 212, 213, 214, 215, 216, 217, 218, 219, 220,\n",
       "       221, 222, 223, 224])"
      ]
     },
     "execution_count": 19,
     "metadata": {},
     "output_type": "execute_result"
    }
   ],
   "source": [
    "Data1 = np.arange(225)\n",
    "Data1"
   ]
  },
  {
   "cell_type": "markdown",
   "id": "c042deb1",
   "metadata": {},
   "source": [
    "* Örneğin burada ‘Arange’ fonksiyonu ile 225'e kadar değer bastırmışız. Ama şekilsiz ve istediğimiz gibi değil."
   ]
  },
  {
   "cell_type": "code",
   "execution_count": 20,
   "id": "c57bd430",
   "metadata": {},
   "outputs": [
    {
     "data": {
      "text/plain": [
       "array([[  0,   1,   2,   3,   4,   5,   6,   7,   8,   9,  10,  11,  12,\n",
       "         13,  14],\n",
       "       [ 15,  16,  17,  18,  19,  20,  21,  22,  23,  24,  25,  26,  27,\n",
       "         28,  29],\n",
       "       [ 30,  31,  32,  33,  34,  35,  36,  37,  38,  39,  40,  41,  42,\n",
       "         43,  44],\n",
       "       [ 45,  46,  47,  48,  49,  50,  51,  52,  53,  54,  55,  56,  57,\n",
       "         58,  59],\n",
       "       [ 60,  61,  62,  63,  64,  65,  66,  67,  68,  69,  70,  71,  72,\n",
       "         73,  74],\n",
       "       [ 75,  76,  77,  78,  79,  80,  81,  82,  83,  84,  85,  86,  87,\n",
       "         88,  89],\n",
       "       [ 90,  91,  92,  93,  94,  95,  96,  97,  98,  99, 100, 101, 102,\n",
       "        103, 104],\n",
       "       [105, 106, 107, 108, 109, 110, 111, 112, 113, 114, 115, 116, 117,\n",
       "        118, 119],\n",
       "       [120, 121, 122, 123, 124, 125, 126, 127, 128, 129, 130, 131, 132,\n",
       "        133, 134],\n",
       "       [135, 136, 137, 138, 139, 140, 141, 142, 143, 144, 145, 146, 147,\n",
       "        148, 149],\n",
       "       [150, 151, 152, 153, 154, 155, 156, 157, 158, 159, 160, 161, 162,\n",
       "        163, 164],\n",
       "       [165, 166, 167, 168, 169, 170, 171, 172, 173, 174, 175, 176, 177,\n",
       "        178, 179],\n",
       "       [180, 181, 182, 183, 184, 185, 186, 187, 188, 189, 190, 191, 192,\n",
       "        193, 194],\n",
       "       [195, 196, 197, 198, 199, 200, 201, 202, 203, 204, 205, 206, 207,\n",
       "        208, 209],\n",
       "       [210, 211, 212, 213, 214, 215, 216, 217, 218, 219, 220, 221, 222,\n",
       "        223, 224]])"
      ]
     },
     "execution_count": 20,
     "metadata": {},
     "output_type": "execute_result"
    }
   ],
   "source": [
    "#RESHAPE metodu datayı istediğimiz şekli vermemizi sağlar ve matrise çevirir\n",
    "Data1.reshape(15,15)\n"
   ]
  },
  {
   "cell_type": "markdown",
   "id": "6721075d",
   "metadata": {},
   "source": [
    "\n",
    "\n",
    "* Şimdi ki fonksiyonumuz ise ‘argmax()’. Ondan kısaca bahsetmek gerekirse en büyük değere sahip değerin (bu veride 224), indexini verecektir (ne yazık ki o da 224)."
   ]
  },
  {
   "cell_type": "code",
   "execution_count": 21,
   "id": "b3b2acf0",
   "metadata": {},
   "outputs": [
    {
     "data": {
      "text/plain": [
       "224"
      ]
     },
     "execution_count": 21,
     "metadata": {},
     "output_type": "execute_result"
    }
   ],
   "source": [
    "# bu sizi şaşırtmasın.Bunun anlamı en büyük sayının indexini vericektir\n",
    "Data1.argmax()"
   ]
  },
  {
   "cell_type": "markdown",
   "id": "c2da39a0",
   "metadata": {},
   "source": [
    "* ‘argmin()’ de aynı mantık üzerine kurulu sadece en düşük değeri verecektir."
   ]
  },
  {
   "cell_type": "code",
   "execution_count": 23,
   "id": "ad1e4c5f",
   "metadata": {},
   "outputs": [
    {
     "data": {
      "text/plain": [
       "0"
      ]
     },
     "execution_count": 23,
     "metadata": {},
     "output_type": "execute_result"
    }
   ],
   "source": [
    "#en küçük sayının indexini vericektir\n",
    "Data1.argmin()"
   ]
  },
  {
   "cell_type": "code",
   "execution_count": 26,
   "id": "e55d73d3",
   "metadata": {},
   "outputs": [
    {
     "data": {
      "text/plain": [
       "64.95126378036586"
      ]
     },
     "execution_count": 26,
     "metadata": {},
     "output_type": "execute_result"
    }
   ],
   "source": [
    "# Standart sapmayı bulur.\n",
    "stddev = np.std(Data1) \n",
    "stddev"
   ]
  },
  {
   "cell_type": "code",
   "execution_count": 28,
   "id": "ec04717b",
   "metadata": {},
   "outputs": [
    {
     "data": {
      "text/plain": [
       "4218.666666666667"
      ]
     },
     "execution_count": 28,
     "metadata": {},
     "output_type": "execute_result"
    }
   ],
   "source": [
    "#varyansını bulur\n",
    "variance = np.var(Data1)\n",
    "variance"
   ]
  },
  {
   "cell_type": "markdown",
   "id": "06639c8e",
   "metadata": {},
   "source": [
    "# Array Yapılarının İndexlenmesi:\n",
    "\n",
    "* Array yapıların indexlemek ile Liste indexlemek aynıdır.\n",
    "* Şimdi ki göreceklerimiz en başta gördüklerimizin biraz daha işlevsel olanlarıdır.\n",
    "* Şimdi ise yeni bir veri yaratıp başlayalım."
   ]
  },
  {
   "cell_type": "code",
   "execution_count": 29,
   "id": "4d06989a",
   "metadata": {},
   "outputs": [],
   "source": [
    "Data1 = np.arange(0,100)"
   ]
  },
  {
   "cell_type": "code",
   "execution_count": 30,
   "id": "c412eba0",
   "metadata": {},
   "outputs": [
    {
     "data": {
      "text/plain": [
       "array([ 0,  1,  2,  3,  4,  5,  6,  7,  8,  9, 10, 11, 12, 13, 14, 15, 16,\n",
       "       17, 18, 19, 20, 21, 22, 23, 24, 25, 26, 27, 28, 29, 30, 31, 32, 33,\n",
       "       34, 35, 36, 37, 38, 39, 40, 41, 42, 43, 44, 45, 46, 47, 48, 49, 50,\n",
       "       51, 52, 53, 54, 55, 56, 57, 58, 59, 60, 61, 62, 63, 64, 65, 66, 67,\n",
       "       68, 69, 70, 71, 72, 73, 74, 75, 76, 77, 78, 79, 80, 81, 82, 83, 84,\n",
       "       85, 86, 87, 88, 89, 90, 91, 92, 93, 94, 95, 96, 97, 98, 99])"
      ]
     },
     "execution_count": 30,
     "metadata": {},
     "output_type": "execute_result"
    }
   ],
   "source": [
    "Data1"
   ]
  },
  {
   "cell_type": "code",
   "execution_count": 32,
   "id": "686fcb59",
   "metadata": {},
   "outputs": [
    {
     "data": {
      "text/plain": [
       "array([0, 1, 2, 3, 4, 5])"
      ]
     },
     "execution_count": 32,
     "metadata": {},
     "output_type": "execute_result"
    }
   ],
   "source": [
    "# 0 dan 6. indexe kadar bastır ayrıca yanda ki kod ile de eşdeğerdir. Data1[0,6]\n",
    "Data1[:6]\n"
   ]
  },
  {
   "cell_type": "code",
   "execution_count": 33,
   "id": "f27e93ac",
   "metadata": {},
   "outputs": [
    {
     "data": {
      "text/plain": [
       "array([ 0,  3,  6,  9, 12, 15, 18, 21, 24, 27, 30, 33, 36, 39, 42, 45, 48,\n",
       "       51, 54, 57, 60, 63, 66, 69, 72, 75, 78, 81, 84, 87, 90, 93, 96, 99])"
      ]
     },
     "execution_count": 33,
     "metadata": {},
     "output_type": "execute_result"
    }
   ],
   "source": [
    "# baştan sonra 3 atlaya atlaya ilerle\n",
    "Data1[::3]"
   ]
  },
  {
   "cell_type": "code",
   "execution_count": 34,
   "id": "f04f35a3",
   "metadata": {},
   "outputs": [
    {
     "data": {
      "text/plain": [
       "array([10,  1,  2,  3,  4,  5,  6,  7,  8,  9, 10, 11, 12, 13, 14, 15, 16,\n",
       "       17, 18, 19, 20, 21, 22, 23, 24, 25, 26, 27, 28, 29, 30, 31, 32, 33,\n",
       "       34, 35, 36, 37, 38, 39, 40, 41, 42, 43, 44, 45, 46, 47, 48, 49, 50,\n",
       "       51, 52, 53, 54, 55, 56, 57, 58, 59, 60, 61, 62, 63, 64, 65, 66, 67,\n",
       "       68, 69, 70, 71, 72, 73, 74, 75, 76, 77, 78, 79, 80, 81, 82, 83, 84,\n",
       "       85, 86, 87, 88, 89, 90, 91, 92, 93, 94, 95, 96, 97, 98, 99])"
      ]
     },
     "execution_count": 34,
     "metadata": {},
     "output_type": "execute_result"
    }
   ],
   "source": [
    "10 # baştan 2. indexle kadar olanları 10a eşitle\n",
    "Data1[:1] = \n",
    "Data1"
   ]
  },
  {
   "cell_type": "code",
   "execution_count": 36,
   "id": "92e995c3",
   "metadata": {},
   "outputs": [
    {
     "data": {
      "text/plain": [
       "array([False, False, False, False, False, False, False, False, False,\n",
       "       False, False, False, False, False, False, False, False, False,\n",
       "       False, False, False, False, False, False, False, False, False,\n",
       "       False, False, False, False, False, False, False, False, False,\n",
       "       False, False, False, False, False,  True,  True,  True,  True,\n",
       "        True,  True,  True,  True,  True,  True,  True,  True,  True,\n",
       "        True,  True,  True,  True,  True,  True,  True,  True,  True,\n",
       "        True,  True,  True,  True,  True,  True,  True,  True,  True,\n",
       "        True,  True,  True,  True,  True,  True,  True,  True,  True,\n",
       "        True,  True,  True,  True,  True,  True,  True,  True,  True,\n",
       "        True,  True,  True,  True,  True,  True,  True,  True,  True,\n",
       "        True])"
      ]
     },
     "execution_count": 36,
     "metadata": {},
     "output_type": "execute_result"
    }
   ],
   "source": [
    "Data1 > 40"
   ]
  },
  {
   "cell_type": "code",
   "execution_count": 39,
   "id": "1f849ac1",
   "metadata": {},
   "outputs": [
    {
     "data": {
      "text/plain": [
       "array([1, 2, 3, 4, 5])"
      ]
     },
     "execution_count": 39,
     "metadata": {},
     "output_type": "execute_result"
    }
   ],
   "source": [
    "\n",
    "NewArray1 = np.array([1,2,3,4,5])\n",
    "NewArray1\n"
   ]
  },
  {
   "cell_type": "markdown",
   "id": "2595f7bd",
   "metadata": {},
   "source": [
    "* Matrisin satırlarını sütun, sütunlarını satır yapma işlemi Numpy ile “ .T” yazmak kadar kolay. Aşağıdaki durum herşeyi açıklayabilicek seviyede."
   ]
  },
  {
   "cell_type": "code",
   "execution_count": 41,
   "id": "d6cfeab0",
   "metadata": {},
   "outputs": [
    {
     "data": {
      "text/plain": [
       "array([[5, 4]])"
      ]
     },
     "execution_count": 41,
     "metadata": {},
     "output_type": "execute_result"
    }
   ],
   "source": [
    "a = np.array([[5,4]])\n",
    "a"
   ]
  },
  {
   "cell_type": "code",
   "execution_count": 42,
   "id": "9900fca4",
   "metadata": {},
   "outputs": [
    {
     "data": {
      "text/plain": [
       "array([[5],\n",
       "       [4]])"
      ]
     },
     "execution_count": 42,
     "metadata": {},
     "output_type": "execute_result"
    }
   ],
   "source": [
    "a.T"
   ]
  },
  {
   "cell_type": "markdown",
   "id": "5125dd27",
   "metadata": {},
   "source": [
    "* shape = bize boyutu hakkında bilgi verir."
   ]
  },
  {
   "cell_type": "code",
   "execution_count": 44,
   "id": "765fe3e1",
   "metadata": {},
   "outputs": [
    {
     "data": {
      "text/plain": [
       "(3,)"
      ]
     },
     "execution_count": 44,
     "metadata": {},
     "output_type": "execute_result"
    }
   ],
   "source": [
    "b = np.array([10,20,30])\n",
    "b.shape"
   ]
  },
  {
   "cell_type": "code",
   "execution_count": 46,
   "id": "a6524123",
   "metadata": {},
   "outputs": [
    {
     "data": {
      "text/plain": [
       "(1, 3)"
      ]
     },
     "execution_count": 46,
     "metadata": {},
     "output_type": "execute_result"
    }
   ],
   "source": [
    "b = np.array([[10,20,30]])\n",
    "b.shape"
   ]
  },
  {
   "cell_type": "code",
   "execution_count": null,
   "id": "4b95018a",
   "metadata": {},
   "outputs": [],
   "source": []
  }
 ],
 "metadata": {
  "kernelspec": {
   "display_name": "Python 3 (ipykernel)",
   "language": "python",
   "name": "python3"
  },
  "language_info": {
   "codemirror_mode": {
    "name": "ipython",
    "version": 3
   },
   "file_extension": ".py",
   "mimetype": "text/x-python",
   "name": "python",
   "nbconvert_exporter": "python",
   "pygments_lexer": "ipython3",
   "version": "3.9.7"
  }
 },
 "nbformat": 4,
 "nbformat_minor": 5
}
